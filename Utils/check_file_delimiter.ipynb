{
 "cells": [
  {
   "cell_type": "code",
   "execution_count": null,
   "id": "b609d68c",
   "metadata": {},
   "outputs": [
    {
     "name": "stdout",
     "output_type": "stream",
     "text": [
      "Delimiter is: '\\t'\n"
     ]
    }
   ],
   "source": [
    "import csv\n",
    "\n",
    "file_name = \"C:\\\\path\\\\to\\\\file.txt\"\n",
    "\n",
    "with open(metadata, newline='') as f:\n",
    "    sample = f.read(1024)                # read a bit of the file\n",
    "    dialect = csv.Sniffer().sniff(sample) \n",
    "    print(\"Delimiter is:\", repr(dialect.delimiter))"
   ]
  }
 ],
 "metadata": {
  "kernelspec": {
   "display_name": "Python (data_science)",
   "language": "python",
   "name": "data_science"
  },
  "language_info": {
   "codemirror_mode": {
    "name": "ipython",
    "version": 3
   },
   "file_extension": ".py",
   "mimetype": "text/x-python",
   "name": "python",
   "nbconvert_exporter": "python",
   "pygments_lexer": "ipython3",
   "version": "3.13.2"
  }
 },
 "nbformat": 4,
 "nbformat_minor": 5
}
